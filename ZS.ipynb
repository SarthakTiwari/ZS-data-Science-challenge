{
 "cells": [
  {
   "cell_type": "code",
   "execution_count": null,
   "metadata": {},
   "outputs": [],
   "source": [
    "import pandas as pd\n",
    "import numpy as np\n",
    "csv= pd.read_csv(r'C:\\Users\\HP\\Desktop\\ZS\\data.csv',index_col = 0)\n",
    "csv=csv.drop(['distance_of_shot.1', 'remaining_sec.1','knockout_match.1','power_of_shot.1','remaining_min.1','date_of_game','team_id'], axis=1)\n",
    "csv['team_name'].fillna(method='ffill', inplace=True)\n",
    "csv['home/away'].fillna(method='ffill', inplace=True)\n",
    "csv['game_season'].fillna(method='ffill', inplace=True)\n",
    "csv['lat/lng'].fillna(method='ffill', inplace=True)\n"
   ]
  },
  {
   "cell_type": "code",
   "execution_count": null,
   "metadata": {},
   "outputs": [],
   "source": [
    "a=csv['is_goal']\n",
    "b=csv['shot_id_number']"
   ]
  },
  {
   "cell_type": "code",
   "execution_count": null,
   "metadata": {},
   "outputs": [],
   "source": [
    "l=[i for i in range (1,len(b)+1)]"
   ]
  },
  {
   "cell_type": "code",
   "execution_count": null,
   "metadata": {},
   "outputs": [],
   "source": [
    "csv = csv.apply(lambda x:x.fillna(x.value_counts().index[0]))\n",
    "csv=csv.drop(['is_goal','shot_id_number'], axis=1)\n"
   ]
  },
  {
   "cell_type": "code",
   "execution_count": null,
   "metadata": {},
   "outputs": [],
   "source": [
    "csv['is_goal']=a\n",
    "csv['shot_id_number']=pd.Series(l)\n"
   ]
  },
  {
   "cell_type": "code",
   "execution_count": null,
   "metadata": {},
   "outputs": [],
   "source": [
    "dummy=pd.get_dummies(csv['match_event_id'])\n"
   ]
  },
  {
   "cell_type": "code",
   "execution_count": null,
   "metadata": {},
   "outputs": [],
   "source": [
    "dummy1=pd.get_dummies(csv['game_season'])\n"
   ]
  },
  {
   "cell_type": "code",
   "execution_count": null,
   "metadata": {},
   "outputs": [],
   "source": [
    "dummy2=pd.get_dummies(csv['area_of_shot'])\n",
    "dummy3=pd.get_dummies(csv['shot_basics'])\n",
    "dummy4=pd.get_dummies(csv['range_of_shot'])\n",
    "dummy5=pd.get_dummies(csv['team_name'])\n",
    "dummy6=pd.get_dummies(csv['home/away'])\n",
    "dummy7=pd.get_dummies(csv['lat/lng'])\n",
    "dummy8=pd.get_dummies(csv['type_of_shot'])\n",
    "dummy9=pd.get_dummies(csv['type_of_combined_shot'])"
   ]
  },
  {
   "cell_type": "code",
   "execution_count": null,
   "metadata": {},
   "outputs": [],
   "source": []
  },
  {
   "cell_type": "code",
   "execution_count": null,
   "metadata": {},
   "outputs": [],
   "source": [
    "result = pd.concat([csv,dummy,dummy1,dummy2,dummy3,dummy4,dummy5,dummy6,dummy7,dummy8,dummy9],axis=1,sort=False)\n",
    "result=result.drop(['area_of_shot','shot_basics','range_of_shot','team_name','home/away','lat/lng','type_of_shot','type_of_combined_shot','game_season','match_event_id'],axis=1)\n",
    "mid=result['match_id']\n",
    "y=mid.mean()\n",
    "result['match_id']=(result['match_id']-y)/20000000\n"
   ]
  },
  {
   "cell_type": "code",
   "execution_count": null,
   "metadata": {},
   "outputs": [],
   "source": [
    "result['location_x']=(result['location_x']-result['location_x'].mean())/100\n",
    "result['location_y']=(result['location_y']-result['location_y'].mean())/100\n",
    "result['remaining_min']=(result['remaining_min']-result['remaining_min'].mean())/10\n",
    "result['remaining_sec']=(result['remaining_sec']-result['remaining_sec'].mean())/10\n",
    "result['distance_of_shot']=(result['distance_of_shot']-result['distance_of_shot'].mean())/10\n",
    "result['power_of_shot']=(result['power_of_shot']-result['power_of_shot'].mean())"
   ]
  },
  {
   "cell_type": "code",
   "execution_count": null,
   "metadata": {},
   "outputs": [],
   "source": [
    "result.head(20)"
   ]
  },
  {
   "cell_type": "code",
   "execution_count": null,
   "metadata": {},
   "outputs": [],
   "source": [
    "csv1=result[pd.isnull(csv).any(axis=1)]\n"
   ]
  },
  {
   "cell_type": "code",
   "execution_count": null,
   "metadata": {},
   "outputs": [],
   "source": [
    "csv2=result.dropna()"
   ]
  },
  {
   "cell_type": "code",
   "execution_count": null,
   "metadata": {},
   "outputs": [],
   "source": [
    "is_goal=csv2[\"is_goal\"]\n",
    "csv2=csv2.drop(['is_goal','shot_id_number'], axis=1)\n"
   ]
  },
  {
   "cell_type": "code",
   "execution_count": null,
   "metadata": {},
   "outputs": [],
   "source": [
    "shot_id_number=csv1[\"shot_id_number\"]\n",
    "csv1=csv1.drop(['is_goal','shot_id_number'], axis=1)"
   ]
  },
  {
   "cell_type": "code",
   "execution_count": null,
   "metadata": {},
   "outputs": [],
   "source": [
    "from sklearn.ensemble import RandomForestRegressor \n",
    "  \n",
    "\n",
    "regressor = RandomForestRegressor(n_estimators = 100, random_state = 0) \n",
    "  \n",
    "\n",
    "regressor.fit(csv2,is_goal)  \n",
    "y_pred = regressor.predict(csv1)"
   ]
  },
  {
   "cell_type": "code",
   "execution_count": null,
   "metadata": {},
   "outputs": [],
   "source": [
    "df=pd.DataFrame(shot_id_number)\n",
    "df['is_goal']=y_pred\n"
   ]
  },
  {
   "cell_type": "code",
   "execution_count": null,
   "metadata": {},
   "outputs": [],
   "source": [
    "df.to_csv(r'C:\\Users\\HP\\Desktop\\ZSRF.csv', index=False, header=True)"
   ]
  },
  {
   "cell_type": "code",
   "execution_count": null,
   "metadata": {},
   "outputs": [],
   "source": [
    "y_pred"
   ]
  },
  {
   "cell_type": "code",
   "execution_count": null,
   "metadata": {},
   "outputs": [],
   "source": []
  }
 ],
 "metadata": {
  "kernelspec": {
   "display_name": "Python 3",
   "language": "python",
   "name": "python3"
  },
  "language_info": {
   "codemirror_mode": {
    "name": "ipython",
    "version": 3
   },
   "file_extension": ".py",
   "mimetype": "text/x-python",
   "name": "python",
   "nbconvert_exporter": "python",
   "pygments_lexer": "ipython3",
   "version": "3.6.5"
  }
 },
 "nbformat": 4,
 "nbformat_minor": 2
}
